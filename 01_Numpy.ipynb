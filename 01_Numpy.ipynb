{
 "cells": [
  {
   "cell_type": "markdown",
   "id": "7571816f-4d80-47f8-929e-2992c1ab58f0",
   "metadata": {},
   "source": [
    "# Introduccion a Numpy"
   ]
  },
  {
   "cell_type": "markdown",
   "id": "26380a4f-9254-4387-b994-fa8e611252dc",
   "metadata": {},
   "source": [
    " [Numpy](https://numpy.org/doc/stable/) es una biblioteca fundamental para la computación cientifica con Python\n",
    " * Proporciona arrays N-dimensionales.\n",
    " * Implementa funciones matematicas sofisticadas.\n",
    " * Proporciona herramientas para integrar C/C++ y Fortran.\n",
    " * Proporciona mecanismos para facilitar la realización de tareas relacionadas con álgebra lineal o números aleatorios "
   ]
  },
  {
   "cell_type": "markdown",
   "id": "12643256-1736-49e1-be58-530d11df8b4a",
   "metadata": {},
   "source": [
    "## Imports"
   ]
  },
  {
   "cell_type": "code",
   "execution_count": 1,
   "id": "a2940603-af1c-436f-8f48-c8b1748c4825",
   "metadata": {},
   "outputs": [],
   "source": [
    "import numpy as np"
   ]
  },
  {
   "cell_type": "markdown",
   "id": "494c64df-2e04-4297-b842-92fa8853830a",
   "metadata": {},
   "source": [
    "## Arrays"
   ]
  },
  {
   "cell_type": "markdown",
   "id": "6fef1ab0-707d-4721-b231-41c2785381fc",
   "metadata": {},
   "source": [
    "Un array es una estructura de datos que consiste en una colección de elementos (Valores o varables), cada uno identificado por lo menos un\n",
    "indice o clave. Un array se almacena de modo que la posición de cada elemnto se pueda calcular a partir de su tupla de indice mediante\n",
    "fórmula matemática. El tipo más simple de un array es un array lineal, tambien llamado array unidimencional. "
   ]
  },
  {
   "cell_type": "markdown",
   "id": "31ea85d9-99fb-4c3a-b09e-357b667f64e8",
   "metadata": {},
   "source": [
    "En Numpy:\n",
    "* Cada dimensión se denomina **axis**.\n",
    "* El número de dimensiones se denomina **rank**.\n",
    "* La lista de dimensiones con su correspondiente longitud se denomina **shape**.\n",
    "* El numero total de elementos (Multiplicación de la longitud de las dimenciones) se denomina **size**."
   ]
  },
  {
   "cell_type": "code",
   "execution_count": 2,
   "id": "5065fa07-daf8-4b0c-802c-2897ad97a9b0",
   "metadata": {},
   "outputs": [],
   "source": [
    "# Array cuyos valores son todos ceros.\n",
    "a = np.zeros((2,4))"
   ]
  },
  {
   "cell_type": "code",
   "execution_count": 3,
   "id": "87a7cec7-9669-4b01-ac37-080fe1adf005",
   "metadata": {},
   "outputs": [
    {
     "data": {
      "text/plain": [
       "array([[0., 0., 0., 0.],\n",
       "       [0., 0., 0., 0.]])"
      ]
     },
     "execution_count": 3,
     "metadata": {},
     "output_type": "execute_result"
    }
   ],
   "source": [
    "a"
   ]
  },
  {
   "cell_type": "markdown",
   "id": "e7344ecf-8a33-4c7d-86bc-6a0d446bd9e9",
   "metadata": {},
   "source": [
    "a es un array:\n",
    "* Con dos axis, el primero de longitud de 2 y el segundo de longitud 4.\n",
    "* Con un rank igual a 2.\n",
    "* Con un shape igual (2,4)\n",
    "* Con un Size igual a 8."
   ]
  },
  {
   "cell_type": "code",
   "execution_count": 4,
   "id": "197ef3f2-f9d4-4cd4-bc18-6a47ac2a59f9",
   "metadata": {},
   "outputs": [
    {
     "data": {
      "text/plain": [
       "(2, 4)"
      ]
     },
     "execution_count": 4,
     "metadata": {},
     "output_type": "execute_result"
    }
   ],
   "source": [
    "a.shape"
   ]
  },
  {
   "cell_type": "code",
   "execution_count": 5,
   "id": "abdbf666-3419-4e2c-906b-f0bfb2488093",
   "metadata": {},
   "outputs": [
    {
     "data": {
      "text/plain": [
       "2"
      ]
     },
     "execution_count": 5,
     "metadata": {},
     "output_type": "execute_result"
    }
   ],
   "source": [
    "a.ndim"
   ]
  },
  {
   "cell_type": "code",
   "execution_count": 6,
   "id": "ad48b912-7dd2-48e1-a4f6-27852cbcc074",
   "metadata": {},
   "outputs": [
    {
     "data": {
      "text/plain": [
       "8"
      ]
     },
     "execution_count": 6,
     "metadata": {},
     "output_type": "execute_result"
    }
   ],
   "source": [
    "a.size"
   ]
  },
  {
   "cell_type": "markdown",
   "id": "3c1cd05a-e6f1-4879-8c36-40efcebb0d32",
   "metadata": {},
   "source": [
    "## Creación de Arrays"
   ]
  },
  {
   "cell_type": "code",
   "execution_count": 7,
   "id": "e1567272-0e6a-4e2a-84ff-c4244135f3b1",
   "metadata": {},
   "outputs": [
    {
     "data": {
      "text/plain": [
       "array([[[0., 0., 0., 0.],\n",
       "        [0., 0., 0., 0.],\n",
       "        [0., 0., 0., 0.]],\n",
       "\n",
       "       [[0., 0., 0., 0.],\n",
       "        [0., 0., 0., 0.],\n",
       "        [0., 0., 0., 0.]]])"
      ]
     },
     "execution_count": 7,
     "metadata": {},
     "output_type": "execute_result"
    }
   ],
   "source": [
    "# Array cuyos valores son todos ceros.\n",
    "np.zeros((2,3,4))"
   ]
  },
  {
   "cell_type": "code",
   "execution_count": 8,
   "id": "5115de08-58b9-4715-a8f8-c95c9a6c19d1",
   "metadata": {},
   "outputs": [
    {
     "data": {
      "text/plain": [
       "array([[[1., 1., 1., 1.],\n",
       "        [1., 1., 1., 1.],\n",
       "        [1., 1., 1., 1.]],\n",
       "\n",
       "       [[1., 1., 1., 1.],\n",
       "        [1., 1., 1., 1.],\n",
       "        [1., 1., 1., 1.]]])"
      ]
     },
     "execution_count": 8,
     "metadata": {},
     "output_type": "execute_result"
    }
   ],
   "source": [
    "# Array cuyos valores son todos 1\n",
    "np.ones((2,3,4))"
   ]
  },
  {
   "cell_type": "code",
   "execution_count": 9,
   "id": "39942123-6b95-4ce0-a257-54ccefbb48ea",
   "metadata": {},
   "outputs": [
    {
     "name": "stdout",
     "output_type": "stream",
     "text": [
      "[0.         0.66666667 1.33333333 2.         2.66666667 3.33333333\n",
      " 4.         4.66666667 5.33333333 6.        ]\n"
     ]
    }
   ],
   "source": [
    "# Creación del array utilizando una función basada en rangos\n",
    "# (minimo, maximo, número de elementos del array.\n",
    "print (np.linspace(0, 6, 10))"
   ]
  },
  {
   "cell_type": "code",
   "execution_count": 10,
   "id": "764d4266-70ed-4e7b-8394-eb7c737f3214",
   "metadata": {},
   "outputs": [
    {
     "data": {
      "text/plain": [
       "array([[[0.41835733, 0.4040002 , 0.06477843, 0.39549187],\n",
       "        [0.84799461, 0.49307041, 0.91958268, 0.04968792],\n",
       "        [0.45348717, 0.4389584 , 0.07177294, 0.76318334]],\n",
       "\n",
       "       [[0.65907795, 0.89707302, 0.99847363, 0.64199921],\n",
       "        [0.97467349, 0.99999189, 0.05732417, 0.77152022],\n",
       "        [0.97375898, 0.90337887, 0.03538606, 0.2286833 ]]])"
      ]
     },
     "execution_count": 10,
     "metadata": {},
     "output_type": "execute_result"
    }
   ],
   "source": [
    "# Inicializar un array con valores alestorios.\n",
    "np.random.rand(2, 3, 4)"
   ]
  },
  {
   "cell_type": "code",
   "execution_count": 11,
   "id": "2a264687-892d-4050-9998-a0331bb2f602",
   "metadata": {},
   "outputs": [
    {
     "data": {
      "text/plain": [
       "array([[ 0.94209787, -1.16229661, -0.26343992,  0.13305863],\n",
       "       [ 0.72309776, -1.91198064, -0.97502153,  0.11666023]])"
      ]
     },
     "execution_count": 11,
     "metadata": {},
     "output_type": "execute_result"
    }
   ],
   "source": [
    "# Inicializar un array con valores aleatorios conforme a una distribución normal.\n",
    "np.random.randn(2, 4)"
   ]
  },
  {
   "cell_type": "code",
   "execution_count": 12,
   "id": "1388d240-dc3c-4895-88de-9380d9610ed5",
   "metadata": {},
   "outputs": [
    {
     "data": {
      "image/png": "[encoded data removed]",
      "text/plain": [
       "<Figure size 640x480 with 1 Axes>"
      ]
     },
     "metadata": {},
     "output_type": "display_data"
    }
   ],
   "source": [
    "%matplotlib inline\n",
    "import matplotlib.pyplot as plt\n",
    "\n",
    "c = np.random.randn(100000)\n",
    "\n",
    "plt.hist(c, bins=300)\n",
    "plt.show()"
   ]
  },
  {
   "cell_type": "code",
   "execution_count": 13,
   "id": "cada277e-27b0-4da2-97cd-43375c6463bf",
   "metadata": {},
   "outputs": [
    {
     "data": {
      "text/plain": [
       "array([[ 0.,  2.,  4.,  6.,  8.],\n",
       "       [ 1.,  3.,  5.,  7.,  9.],\n",
       "       [ 2.,  4.,  6.,  8., 10.]])"
      ]
     },
     "execution_count": 13,
     "metadata": {},
     "output_type": "execute_result"
    }
   ],
   "source": [
    "# Inicializar un array utilizando una función personalizada.\n",
    "def function(x, y):\n",
    "    return x + 2 * y\n",
    "\n",
    "np.fromfunction(function, (3, 5))"
   ]
  },
  {
   "cell_type": "markdown",
   "id": "478144c8-9ad1-4060-ab3c-c6c738d0e4e0",
   "metadata": {},
   "source": [
    "## Acceso a los elementos de un array\n",
    "### Array Unidimencional"
   ]
  },
  {
   "cell_type": "code",
   "execution_count": 14,
   "id": "0800658b-5862-4f4a-b072-ccb3a2c83adf",
   "metadata": {},
   "outputs": [
    {
     "name": "stdout",
     "output_type": "stream",
     "text": [
      "Shape:  (6,)\n",
      "Array_Uni:  [ 1  3  5  7  9 11]\n"
     ]
    }
   ],
   "source": [
    "# Creación de un array unidimensional.\n",
    "array_uni = np.array([1, 3, 5, 7, 9 ,11])\n",
    "print(\"Shape: \", array_uni.shape)\n",
    "print(\"Array_Uni: \", array_uni)"
   ]
  },
  {
   "cell_type": "code",
   "execution_count": 15,
   "id": "d7ecd20a-0ed6-4255-a370-a314e9c090f9",
   "metadata": {},
   "outputs": [
    {
     "data": {
      "text/plain": [
       "np.int64(9)"
      ]
     },
     "execution_count": 15,
     "metadata": {},
     "output_type": "execute_result"
    }
   ],
   "source": [
    "# Accediendo al quinto elemento del Array.\n",
    "array_uni[4]"
   ]
  },
  {
   "cell_type": "code",
   "execution_count": 16,
   "id": "27dc9d70-b267-406b-a299-7354aad4b843",
   "metadata": {},
   "outputs": [
    {
     "data": {
      "text/plain": [
       "array([5, 7])"
      ]
     },
     "execution_count": 16,
     "metadata": {},
     "output_type": "execute_result"
    }
   ],
   "source": [
    "# Accediendo al tercer y cuarto elemnto del Array.\n",
    "array_uni[2:4]"
   ]
  },
  {
   "cell_type": "code",
   "execution_count": 17,
   "id": "2f519dfc-e576-4df2-a065-12316c995af7",
   "metadata": {},
   "outputs": [
    {
     "data": {
      "text/plain": [
       "array([1, 7])"
      ]
     },
     "execution_count": 17,
     "metadata": {},
     "output_type": "execute_result"
    }
   ],
   "source": [
    "# Acceder a los elemntos 0, 3, 5 del array.\n",
    "array_uni[0::3]"
   ]
  },
  {
   "cell_type": "markdown",
   "id": "5ae666a2-9b2b-4ebf-94bb-47c175cfc357",
   "metadata": {},
   "source": [
    "## Array Multidimencional"
   ]
  },
  {
   "cell_type": "code",
   "execution_count": 18,
   "id": "3ae40453-3f68-4d95-97f0-56124d9e7cf4",
   "metadata": {},
   "outputs": [
    {
     "name": "stdout",
     "output_type": "stream",
     "text": [
      "Shape:  (2, 4)\n",
      "Array_Multi:  [[1 2 3 4]\n",
      " [5 6 7 8]]\n"
     ]
    }
   ],
   "source": [
    "# Creación de un array multidimencional\n",
    "array_multi = np.array([[1, 2, 3, 4], [5, 6, 7, 8]])\n",
    "print(\"Shape: \", array_multi.shape)\n",
    "print(\"Array_Multi: \", array_multi)"
   ]
  },
  {
   "cell_type": "code",
   "execution_count": 19,
   "id": "2c93a1d9-1032-4ba9-8386-a982292ecf7e",
   "metadata": {},
   "outputs": [
    {
     "data": {
      "text/plain": [
       "np.int64(4)"
      ]
     },
     "execution_count": 19,
     "metadata": {},
     "output_type": "execute_result"
    }
   ],
   "source": [
    "# Accediendo al cuarto elemento del array\n",
    "array_multi[0, 3]"
   ]
  },
  {
   "cell_type": "code",
   "execution_count": 20,
   "id": "7afc81ef-938a-4cb9-9772-1af6ad9920af",
   "metadata": {},
   "outputs": [
    {
     "data": {
      "text/plain": [
       "array([5, 6, 7, 8])"
      ]
     },
     "execution_count": 20,
     "metadata": {},
     "output_type": "execute_result"
    }
   ],
   "source": [
    "# Accediendo a la segunda fila del array.\n",
    "array_multi[1, :]"
   ]
  },
  {
   "cell_type": "code",
   "execution_count": 21,
   "id": "9ab56d50-f57a-4b58-8533-a25feca45c92",
   "metadata": {},
   "outputs": [
    {
     "data": {
      "text/plain": [
       "array([3, 7])"
      ]
     },
     "execution_count": 21,
     "metadata": {},
     "output_type": "execute_result"
    }
   ],
   "source": [
    "# Accediendo al tercer elemento de las dos primeras filas del array.\n",
    "array_multi[0: 2, 2]"
   ]
  },
  {
   "cell_type": "markdown",
   "id": "dd5e8409-6aa5-484e-aa62-c6a0313cebe0",
   "metadata": {},
   "source": [
    "## Modificación de un Array."
   ]
  },
  {
   "cell_type": "code",
   "execution_count": 22,
   "id": "ee14036b-58c0-4e36-96d7-8ddcd252a492",
   "metadata": {},
   "outputs": [
    {
     "name": "stdout",
     "output_type": "stream",
     "text": [
      "Shape:  (28,)\n",
      "Array_Uni:  [ 0  1  2  3  4  5  6  7  8  9 10 11 12 13 14 15 16 17 18 19 20 21 22 23\n",
      " 24 25 26 27]\n"
     ]
    }
   ],
   "source": [
    "# Creación de un array unidimencional inicializado con el rango de elemntos que va del 0 al 27.\n",
    "array1 = np.arange(28)\n",
    "print(\"Shape: \", array1.shape)\n",
    "print(\"Array_Uni: \", array1)"
   ]
  },
  {
   "cell_type": "code",
   "execution_count": 23,
   "id": "619d403c-7e80-43d0-97cc-abe40be3a086",
   "metadata": {},
   "outputs": [
    {
     "name": "stdout",
     "output_type": "stream",
     "text": [
      "Shape:  (7, 4)\n",
      "Array: \n",
      " [[ 0  1  2  3]\n",
      " [ 4  5  6  7]\n",
      " [ 8  9 10 11]\n",
      " [12 13 14 15]\n",
      " [16 17 18 19]\n",
      " [20 21 22 23]\n",
      " [24 25 26 27]]\n"
     ]
    }
   ],
   "source": [
    "# Cambiar las dimenciones del array y longitudes\n",
    "array1.shape = (7, 4)\n",
    "print(\"Shape: \", array1.shape)\n",
    "print(\"Array: \\n\", array1)"
   ]
  },
  {
   "cell_type": "code",
   "execution_count": 24,
   "id": "b555fc7a-4356-44e2-b7f5-460fe7cd3541",
   "metadata": {},
   "outputs": [
    {
     "name": "stdout",
     "output_type": "stream",
     "text": [
      "Shape:  (4, 7)\n",
      "Array: \n",
      " [[ 0  1  2  3  4  5  6]\n",
      " [ 7  8  9 10 11 12 13]\n",
      " [14 15 16 17 18 19 20]\n",
      " [21 22 23 24 25 26 27]]\n"
     ]
    }
   ],
   "source": [
    "# El ejemplo anterior devuelve un nuevo arraym que apunta a los mismos datos. Nota, las modificaciones en un array, modifican el otro array\n",
    "array2 = array1.reshape(4, 7)\n",
    "print(\"Shape: \", array2.shape)\n",
    "print(\"Array: \\n\", array2)"
   ]
  },
  {
   "cell_type": "code",
   "execution_count": 25,
   "id": "ae28f346-0e39-4d83-8340-bcd62454f4de",
   "metadata": {},
   "outputs": [
    {
     "name": "stdout",
     "output_type": "stream",
     "text": [
      "Array 2: \n",
      " [[ 0  1  2 20  4  5  6]\n",
      " [ 7  8  9 10 11 12 13]\n",
      " [14 15 16 17 18 19 20]\n",
      " [21 22 23 24 25 26 27]]\n"
     ]
    }
   ],
   "source": [
    "# Modificacion del Array devuelto\n",
    "array2[0,3] = 20\n",
    "print (\"Array 2: \\n\", array2)"
   ]
  },
  {
   "cell_type": "code",
   "execution_count": 26,
   "id": "e62adf7b-6fc3-432c-89a7-37150a6e0d50",
   "metadata": {},
   "outputs": [
    {
     "name": "stdout",
     "output_type": "stream",
     "text": [
      "Array 1: \n",
      " [[ 0  1  2 20]\n",
      " [ 4  5  6  7]\n",
      " [ 8  9 10 11]\n",
      " [12 13 14 15]\n",
      " [16 17 18 19]\n",
      " [20 21 22 23]\n",
      " [24 25 26 27]]\n"
     ]
    }
   ],
   "source": [
    "print (\"Array 1: \\n\", array1)"
   ]
  },
  {
   "cell_type": "code",
   "execution_count": 27,
   "id": "fe632418-52d1-413b-912c-8ff4afc0132c",
   "metadata": {},
   "outputs": [
    {
     "name": "stdout",
     "output_type": "stream",
     "text": [
      "Array 1: \n",
      " [ 0  1  2 20  4  5  6  7  8  9 10 11 12 13 14 15 16 17 18 19 20 21 22 23\n",
      " 24 25 26 27]\n"
     ]
    }
   ],
   "source": [
    "# Devuelve el Array a una sola dimencio. Nota: el nuevo array apunta a los mismos datos.\n",
    "print (\"Array 1: \\n\", array1.ravel())"
   ]
  },
  {
   "cell_type": "markdown",
   "id": "6304da19-b43d-403c-811d-7ca91d4b0a7d",
   "metadata": {},
   "source": [
    "## Operaciones Aritméticas con Arrays"
   ]
  },
  {
   "cell_type": "code",
   "execution_count": 28,
   "id": "4ce627c6-99b7-462f-9d3f-75f5deb1aa5b",
   "metadata": {},
   "outputs": [
    {
     "name": "stdout",
     "output_type": "stream",
     "text": [
      "Array 1: \n",
      " [ 2  4  6  8 10 12 14 16]\n",
      "Array 2: \n",
      " [0 1 2 3 4 5 6 7]\n"
     ]
    }
   ],
   "source": [
    "# Creación de dos arrays unidimencionales.\n",
    "array1 = np.arange(2, 18, 2)\n",
    "array2 = np.arange(8)\n",
    "print (\"Array 1: \\n\", array1)\n",
    "print (\"Array 2: \\n\", array2)"
   ]
  },
  {
   "cell_type": "code",
   "execution_count": 29,
   "id": "66b36a78-f95b-4fbb-b72b-6f761ab932df",
   "metadata": {},
   "outputs": [
    {
     "name": "stdout",
     "output_type": "stream",
     "text": [
      "[ 2  5  8 11 14 17 20 23]\n"
     ]
    }
   ],
   "source": [
    "# Suma\n",
    "print(array1 + array2)"
   ]
  },
  {
   "cell_type": "code",
   "execution_count": 30,
   "id": "e931b246-35a9-4284-bf6b-fadfa4d8bc2a",
   "metadata": {},
   "outputs": [
    {
     "name": "stdout",
     "output_type": "stream",
     "text": [
      "[2 3 4 5 6 7 8 9]\n"
     ]
    }
   ],
   "source": [
    "# Resta\n",
    "print(array1 - array2)"
   ]
  },
  {
   "cell_type": "code",
   "execution_count": 31,
   "id": "aefe693e-f918-47ba-8aed-5bae8ba8b283",
   "metadata": {},
   "outputs": [
    {
     "name": "stdout",
     "output_type": "stream",
     "text": [
      "[  0   4  12  24  40  60  84 112]\n"
     ]
    }
   ],
   "source": [
    "# Multiplicación. Nota: No es una multiplicación de matrices.\n",
    "print(array1 * array2)"
   ]
  },
  {
   "cell_type": "markdown",
   "id": "ac7d10cc-2e2c-443c-a849-e8765e74e7c3",
   "metadata": {},
   "source": [
    "## Broadcasting.\n",
    "Si se aplican operaciones aritmeticas sobre Arrays, que no tienen la misma forma (SHAPE). Numpy aplica una propiedad que se denomina\n",
    "Broadcasting."
   ]
  },
  {
   "cell_type": "code",
   "execution_count": 32,
   "id": "f9f95748-4df3-4d1b-af11-e34f2d5d2724",
   "metadata": {},
   "outputs": [
    {
     "name": "stdout",
     "output_type": "stream",
     "text": [
      "Shape:  (5,)\n",
      "Array 1: \n",
      " [0 1 2 3 4]\n",
      "Shape:  (1,)\n",
      "Array 2: [3]\n"
     ]
    }
   ],
   "source": [
    "# Creación de dos Arrays unidimencionales.\n",
    "array1 = np.arange(5)\n",
    "array2 = np.array([3])\n",
    "print(\"Shape: \", array1.shape)\n",
    "print(\"Array 1: \\n\", array1)\n",
    "print(\"Shape: \", array2.shape)\n",
    "print(\"Array 2:\", array2)"
   ]
  },
  {
   "cell_type": "code",
   "execution_count": 33,
   "id": "2f615d6b-3178-4c91-b4b9-3fa348a23a1b",
   "metadata": {},
   "outputs": [
    {
     "data": {
      "text/plain": [
       "array([3, 4, 5, 6, 7])"
      ]
     },
     "execution_count": 33,
     "metadata": {},
     "output_type": "execute_result"
    }
   ],
   "source": [
    "# Suma de ambos arrays\n",
    "array1 + array2"
   ]
  },
  {
   "cell_type": "code",
   "execution_count": 34,
   "id": "893e5a7e-8b1e-455d-98e5-b5bc317cd7b4",
   "metadata": {},
   "outputs": [
    {
     "name": "stdout",
     "output_type": "stream",
     "text": [
      "Shape:  (2, 3)\n",
      "Array 1: \n",
      " [[0 1 2]\n",
      " [3 4 5]]\n",
      "Shape:  (3,)\n",
      "Array 2: [ 6 10 14]\n"
     ]
    }
   ],
   "source": [
    "# Creación de dos arrays multidimencionales y unidimencional\n",
    "array1 = np.arange(6)\n",
    "array1.shape = (2,3)\n",
    "array2 = np.arange(6,18,4)\n",
    "print(\"Shape: \", array1.shape)\n",
    "print(\"Array 1: \\n\", array1)\n",
    "print(\"Shape: \", array2.shape)\n",
    "print(\"Array 2:\", array2)"
   ]
  },
  {
   "cell_type": "code",
   "execution_count": 35,
   "id": "f98d78e7-119a-450f-81ee-3bb7057e2f29",
   "metadata": {},
   "outputs": [
    {
     "data": {
      "text/plain": [
       "array([[ 6, 11, 16],\n",
       "       [ 9, 14, 19]])"
      ]
     },
     "execution_count": 35,
     "metadata": {},
     "output_type": "execute_result"
    }
   ],
   "source": [
    "# Suma de ambos arrays\n",
    "array1 + array2 "
   ]
  },
  {
   "cell_type": "markdown",
   "id": "66ca7ed4-f38c-4c1c-afe9-86e2be755fbc",
   "metadata": {},
   "source": [
    "## Funciones estadisticas sobre array."
   ]
  },
  {
   "cell_type": "code",
   "execution_count": 36,
   "id": "bd82149b-cca8-4983-8f25-cfd5c16789bd",
   "metadata": {},
   "outputs": [
    {
     "name": "stdout",
     "output_type": "stream",
     "text": [
      "Array 1:  [ 1  3  5  7  9 11 13 15 17 19]\n"
     ]
    }
   ],
   "source": [
    "# Creación de un array unidimencional\n",
    "array1 = np.arange(1,20,2)\n",
    "print (\"Array 1: \", array1)"
   ]
  },
  {
   "cell_type": "code",
   "execution_count": 37,
   "id": "892333a1-8664-408d-992b-b81f3968317f",
   "metadata": {},
   "outputs": [
    {
     "data": {
      "text/plain": [
       "np.float64(10.0)"
      ]
     },
     "execution_count": 37,
     "metadata": {},
     "output_type": "execute_result"
    }
   ],
   "source": [
    "# Media de los elementos del array\n",
    "array1.mean()"
   ]
  },
  {
   "cell_type": "code",
   "execution_count": 38,
   "id": "09206094-6524-45d6-9260-04a4de3fae3d",
   "metadata": {},
   "outputs": [
    {
     "data": {
      "text/plain": [
       "np.int64(100)"
      ]
     },
     "execution_count": 38,
     "metadata": {},
     "output_type": "execute_result"
    }
   ],
   "source": [
    "# Suma de los elemntos del array.\n",
    "array1.sum()"
   ]
  },
  {
   "cell_type": "markdown",
   "id": "f5c40d86-8574-4d87-8d57-f1028ce35202",
   "metadata": {},
   "source": [
    "Funciones Universales eficientes proporcionada por numpy: **universialfunction**."
   ]
  },
  {
   "cell_type": "code",
   "execution_count": 39,
   "id": "7d3426be-d1dc-46a2-a82d-c4cb790f431d",
   "metadata": {},
   "outputs": [
    {
     "data": {
      "text/plain": [
       "array([  1,   9,  25,  49,  81, 121, 169, 225, 289, 361])"
      ]
     },
     "execution_count": 39,
     "metadata": {},
     "output_type": "execute_result"
    }
   ],
   "source": [
    "# Cuadrado de los elementos del array\n",
    "np.square(array1)"
   ]
  },
  {
   "cell_type": "code",
   "execution_count": 40,
   "id": "5e5a03e2-ea5b-4fe7-aea2-13be45910e4f",
   "metadata": {},
   "outputs": [
    {
     "data": {
      "text/plain": [
       "array([1.        , 1.73205081, 2.23606798, 2.64575131, 3.        ,\n",
       "       3.31662479, 3.60555128, 3.87298335, 4.12310563, 4.35889894])"
      ]
     },
     "execution_count": 40,
     "metadata": {},
     "output_type": "execute_result"
    }
   ],
   "source": [
    "# Raiz cuadrada de los elemntos del array\n",
    "np.sqrt(array1)"
   ]
  },
  {
   "cell_type": "code",
   "execution_count": 41,
   "id": "34bddef0-497f-413d-9a5d-cdf0881131b3",
   "metadata": {},
   "outputs": [
    {
     "data": {
      "text/plain": [
       "array([2.71828183e+00, 2.00855369e+01, 1.48413159e+02, 1.09663316e+03,\n",
       "       8.10308393e+03, 5.98741417e+04, 4.42413392e+05, 3.26901737e+06,\n",
       "       2.41549528e+07, 1.78482301e+08])"
      ]
     },
     "execution_count": 41,
     "metadata": {},
     "output_type": "execute_result"
    }
   ],
   "source": [
    "# Exponencial de los elementos del array\n",
    "np.exp(array1)"
   ]
  },
  {
   "cell_type": "code",
   "execution_count": 42,
   "id": "1e63fa2e-5c49-4cfc-844f-3d784d23eb96",
   "metadata": {},
   "outputs": [
    {
     "data": {
      "text/plain": [
       "array([0.        , 1.09861229, 1.60943791, 1.94591015, 2.19722458,\n",
       "       2.39789527, 2.56494936, 2.7080502 , 2.83321334, 2.94443898])"
      ]
     },
     "execution_count": 42,
     "metadata": {},
     "output_type": "execute_result"
    }
   ],
   "source": [
    "# Logaritmo natural de los elemntos del Array \n",
    "np.log(array1)"
   ]
  },
  {
   "cell_type": "code",
   "execution_count": null,
   "id": "6be24c54-5262-4cf0-a5e4-240e34c6923b",
   "metadata": {},
   "outputs": [],
   "source": []
  }
 ],
 "metadata": {
  "kernelspec": {
   "display_name": "Python 3 (ipykernel)",
   "language": "python",
   "name": "python3"
  },
  "language_info": {
   "codemirror_mode": {
    "name": "ipython",
    "version": 3
   },
   "file_extension": ".py",
   "mimetype": "text/x-python",
   "name": "python",
   "nbconvert_exporter": "python",
   "pygments_lexer": "ipython3",
   "version": "3.9.19"
  }
 },
 "nbformat": 4,
 "nbformat_minor": 5
}
