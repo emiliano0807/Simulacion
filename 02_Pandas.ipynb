{
 "cells": [
  {
   "cell_type": "markdown",
   "id": "aed1ff79-2fee-45a2-aa19-873c9f6a1128",
   "metadata": {},
   "source": [
    "# Introducción a Pandas\n",
    "[Pandas](https://pandas.pydata.org/docs/) es una biblioteca que proporciona estructuras de datos y herramientas de análisis de datos de \n",
    "alto rendimiento y faciles de usar.\n",
    "* La estructura de datos principal es el DataFrame, que puede considerarse como una tabla 2D en memoria (como una hoja de cálculo con nombres de columna y etiqueta de fila).\n",
    "* Muchas funciones disponibles en Excel, estam disponibles mediante programación como crear tablas dinamicas, calcular columnas basadas en otras columnas, trazar gráficos, etc.\n",
    "* Proporciona alto rendimiento para manipular (unir, dividir, modificar, etc.) grandes conjuntos de datos."
   ]
  },
  {
   "cell_type": "markdown",
   "id": "6d14241b-4f96-4acd-9043-efa4975ab055",
   "metadata": {},
   "source": [
    "## Import"
   ]
  },
  {
   "cell_type": "code",
   "execution_count": 1,
   "id": "03beae36-d490-4f3a-ab05-ae7c6965e69f",
   "metadata": {},
   "outputs": [],
   "source": [
    "import pandas as pd"
   ]
  },
  {
   "cell_type": "markdown",
   "id": "23e73bbe-e3af-4cb4-bbc1-a6d2ce0c6214",
   "metadata": {},
   "source": [
    "### Estructura de datos de Pandas\n",
    "La biblioteca de Pandas de manera genérica, contiene la siguinte estructuras de datos:\n",
    "* **Series**: Array de una dimensión.\n",
    "* **DataFrame**: Corresponde una tabla de dos dimensiones.\n",
    "* **Panel**: Similar a un diccionario de DataFrames."
   ]
  },
  {
   "cell_type": "markdown",
   "id": "0fc42381-0f6c-40fc-8785-2971e66378b1",
   "metadata": {},
   "source": [
    "### Creación del objeto Series."
   ]
  },
  {
   "cell_type": "code",
   "execution_count": 2,
   "id": "4067ef53-cdb7-4cdb-9159-e8c57162eb60",
   "metadata": {},
   "outputs": [
    {
     "name": "stdout",
     "output_type": "stream",
     "text": [
      "0     2\n",
      "1     4\n",
      "2     6\n",
      "3     8\n",
      "4    10\n",
      "dtype: int64\n"
     ]
    }
   ],
   "source": [
    "s = pd.Series([2, 4, 6, 8, 10])\n",
    "print(s)"
   ]
  },
  {
   "cell_type": "code",
   "execution_count": 3,
   "id": "7040957d-cb4a-4953-a64d-9f1f5b0838a2",
   "metadata": {},
   "outputs": [
    {
     "name": "stdout",
     "output_type": "stream",
     "text": [
      "Gabo       175\n",
      "Lucero     160\n",
      "Braulio    180\n",
      "Jessy      161\n",
      "dtype: int64\n"
     ]
    }
   ],
   "source": [
    "# Creacion de un objeto Series inicializando con diccionario de Python.\n",
    "Altura = {\"Gabo\": 175, \"Lucero\": 160, \"Braulio\": 180, \"Jessy\": 161}\n",
    "s = pd.Series(Altura)\n",
    "print(s)"
   ]
  },
  {
   "cell_type": "code",
   "execution_count": 4,
   "id": "922a42d4-4626-4eb1-8501-819043cf92fc",
   "metadata": {},
   "outputs": [
    {
     "name": "stdout",
     "output_type": "stream",
     "text": [
      "Braulio    180\n",
      "Gabo       175\n",
      "dtype: int64\n"
     ]
    }
   ],
   "source": [
    "# Crear un Objeto Series e inicializarlo con algunos de los elementos de un diccionario de Python.\n",
    "Altura = {\"Gabo\": 175, \"Lucero\": 160, \"Braulio\": 180, \"Jessy\": 161}\n",
    "s = pd.Series(Altura, index = [\"Braulio\", \"Gabo\"])\n",
    "print(s)"
   ]
  },
  {
   "cell_type": "code",
   "execution_count": 5,
   "id": "312ba3f7-cef5-4598-80c6-f01556e00676",
   "metadata": {},
   "outputs": [
    {
     "name": "stdout",
     "output_type": "stream",
     "text": [
      "Test1    34\n",
      "Test2    34\n",
      "Test3    34\n",
      "dtype: int64\n"
     ]
    }
   ],
   "source": [
    "# Crear un objeto Series e inicializando con un escalar.\n",
    "s = pd.Series(34, [\"Test1\", \"Test2\", \"Test3\"])\n",
    "print(s)"
   ]
  },
  {
   "cell_type": "markdown",
   "id": "72c0c388-be58-4ece-95c1-a6d6c0ea2c33",
   "metadata": {},
   "source": [
    "## Acceso a los elementos de un objeto Series.\n",
    "Cada elemento en un objetoo Series, tiene un identificador unico que se denomina **index label(s)**"
   ]
  },
  {
   "cell_type": "code",
   "execution_count": 6,
   "id": "0d7586a8-5c77-445d-84f4-7c75a368339e",
   "metadata": {},
   "outputs": [
    {
     "name": "stdout",
     "output_type": "stream",
     "text": [
      "Num1    2\n",
      "Num2    4\n",
      "Num3    6\n",
      "Num4    8\n",
      "dtype: int64\n"
     ]
    }
   ],
   "source": [
    "# Crear un objeto Series.\n",
    "s = pd.Series([2, 4, 6, 8], index = [\"Num1\", \"Num2\", \"Num3\", \"Num4\"])\n",
    "print(s)"
   ]
  },
  {
   "cell_type": "code",
   "execution_count": 7,
   "id": "778652d5-b9cd-4ece-b3cf-7101dbe1e4a8",
   "metadata": {},
   "outputs": [
    {
     "data": {
      "text/plain": [
       "np.int64(6)"
      ]
     },
     "execution_count": 7,
     "metadata": {},
     "output_type": "execute_result"
    }
   ],
   "source": [
    "# Acceder al tercer elemento del objeto.\n",
    "s [\"Num3\"]"
   ]
  },
  {
   "cell_type": "code",
   "execution_count": 8,
   "id": "6d3ef971-7837-4eb0-9ddf-76a425a08869",
   "metadata": {},
   "outputs": [
    {
     "name": "stderr",
     "output_type": "stream",
     "text": [
      "/tmp/ipykernel_3471/1745746009.py:2: FutureWarning: Series.__getitem__ treating keys as positions is deprecated. In a future version, integer keys will always be treated as labels (consistent with DataFrame behavior). To access a value by position, use `ser.iloc[pos]`\n",
      "  s[2]\n"
     ]
    },
    {
     "data": {
      "text/plain": [
       "np.int64(6)"
      ]
     },
     "execution_count": 8,
     "metadata": {},
     "output_type": "execute_result"
    }
   ],
   "source": [
    "# Tambien se puede acceder al elemento por posición.\n",
    "s[2]"
   ]
  },
  {
   "cell_type": "code",
   "execution_count": 9,
   "id": "7cd5efd1-44c4-4c94-85d1-dd75bd746eda",
   "metadata": {},
   "outputs": [
    {
     "data": {
      "text/plain": [
       "np.int64(6)"
      ]
     },
     "execution_count": 9,
     "metadata": {},
     "output_type": "execute_result"
    }
   ],
   "source": [
    "# loc es la forma estándar de acceder a un elemento de un objeto Series por atributo.\n",
    "s.loc[\"Num3\"]"
   ]
  },
  {
   "cell_type": "code",
   "execution_count": 10,
   "id": "a44fde29-957b-49c6-b9ad-c249b2dc90de",
   "metadata": {},
   "outputs": [
    {
     "data": {
      "text/plain": [
       "np.int64(6)"
      ]
     },
     "execution_count": 10,
     "metadata": {},
     "output_type": "execute_result"
    }
   ],
   "source": [
    "# iloc es la forma estandar de acceder a un elemento de un objeto Series por posición.\n",
    "s.iloc[2]"
   ]
  },
  {
   "cell_type": "code",
   "execution_count": 11,
   "id": "dd1b01bd-3739-42ba-9c78-66a79a1c187d",
   "metadata": {},
   "outputs": [
    {
     "data": {
      "text/plain": [
       "Num3    6\n",
       "Num4    8\n",
       "dtype: int64"
      ]
     },
     "execution_count": 11,
     "metadata": {},
     "output_type": "execute_result"
    }
   ],
   "source": [
    "# Accediendo al segundo y tercer elemento por posicion.\n",
    "s.iloc[2:4]"
   ]
  },
  {
   "cell_type": "markdown",
   "id": "4acdd902-d8a5-47ab-987d-38c4d9d19ec0",
   "metadata": {},
   "source": [
    "## Operaciones aritméticas con objetos Series."
   ]
  },
  {
   "cell_type": "code",
   "execution_count": 12,
   "id": "4835a5d0-5e18-46ae-acac-fe7fcdc8a423",
   "metadata": {},
   "outputs": [
    {
     "name": "stdout",
     "output_type": "stream",
     "text": [
      "0     2\n",
      "1     4\n",
      "2     6\n",
      "3     8\n",
      "4    10\n",
      "dtype: int64\n"
     ]
    }
   ],
   "source": [
    "# Creación de un objeto Series.\n",
    "s = pd.Series([2,4,6,8,10])\n",
    "print(s)"
   ]
  },
  {
   "cell_type": "code",
   "execution_count": 13,
   "id": "e26e7a91-daca-4d7d-abb1-346dc1922ff4",
   "metadata": {},
   "outputs": [
    {
     "data": {
      "text/plain": [
       "np.int64(30)"
      ]
     },
     "execution_count": 13,
     "metadata": {},
     "output_type": "execute_result"
    }
   ],
   "source": [
    "# Los objetos Series son similares y compatibles con los Arrays de Numpy\n",
    "import numpy as np\n",
    "#UFuncion de numpy para sumar los elemnetos de un array.\n",
    "np.sum(s)"
   ]
  },
  {
   "cell_type": "code",
   "execution_count": 14,
   "id": "597ad6ff-d956-490d-aaea-c4679e0fa3a6",
   "metadata": {},
   "outputs": [
    {
     "data": {
      "text/plain": [
       "0     4\n",
       "1     8\n",
       "2    12\n",
       "3    16\n",
       "4    20\n",
       "dtype: int64"
      ]
     },
     "execution_count": 14,
     "metadata": {},
     "output_type": "execute_result"
    }
   ],
   "source": [
    "# El resto de las operaciones aritméticas de numpy sobre Arrays tanbien son posibles.\n",
    "# Nota: Para más información al respecto ir a la introducción de Numpy.\n",
    "s * 2"
   ]
  },
  {
   "cell_type": "markdown",
   "id": "33085c11-e36c-4b2e-a086-f944aed31f1a",
   "metadata": {},
   "source": [
    "## Representacion Gráfica de un objeto Series"
   ]
  },
  {
   "cell_type": "code",
   "execution_count": 15,
   "id": "1d15d6e1-7add-40ee-947f-7c8f20a75096",
   "metadata": {},
   "outputs": [
    {
     "data": {
      "text/plain": [
       "0     4.4\n",
       "1     5.1\n",
       "2     6.1\n",
       "3     6.2\n",
       "4     6.1\n",
       "5     6.1\n",
       "6     5.7\n",
       "7     5.2\n",
       "8     4.7\n",
       "9     4.1\n",
       "10    3.9\n",
       "Name: Temperaturas, dtype: float64"
      ]
     },
     "execution_count": 15,
     "metadata": {},
     "output_type": "execute_result"
    }
   ],
   "source": [
    "Temperaturas = [4.4, 5.1, 6.1, 6.2, 6.1, 6.1, 5.7, 5.2, 4.7, 4.1, 3.9]\n",
    "s = pd.Series(Temperaturas, name = \"Temperaturas\")\n",
    "s"
   ]
  },
  {
   "cell_type": "code",
   "execution_count": 16,
   "id": "0d384a48-d3d6-4106-b056-f314ef10f502",
   "metadata": {},
   "outputs": [
    {
     "data": {
      "image/png": "[encoded data removed]",
      "text/plain": [
       "<Figure size 640x480 with 1 Axes>"
      ]
     },
     "metadata": {},
     "output_type": "display_data"
    }
   ],
   "source": [
    "# Representación Gráfica.\n",
    "%matplotlib inline\n",
    "import matplotlib.pyplot as plt\n",
    "s.plot()\n",
    "plt.show()"
   ]
  },
  {
   "cell_type": "markdown",
   "id": "0290b12f-bc90-4dea-9238-ebd877b9855c",
   "metadata": {},
   "source": [
    "## Creación de un objeto DataFrame."
   ]
  },
  {
   "cell_type": "code",
   "execution_count": 17,
   "id": "55744ee7-4f03-475b-95bd-30a79cbf237b",
   "metadata": {},
   "outputs": [
    {
     "data": {
      "text/html": [
       "<div>\n",
       "<style scoped>\n",
       "    .dataframe tbody tr th:only-of-type {\n",
       "        vertical-align: middle;\n",
       "    }\n",
       "\n",
       "    .dataframe tbody tr th {\n",
       "        vertical-align: top;\n",
       "    }\n",
       "\n",
       "    .dataframe thead th {\n",
       "        text-align: right;\n",
       "    }\n",
       "</style>\n",
       "<table border=\"1\" class=\"dataframe\">\n",
       "  <thead>\n",
       "    <tr style=\"text-align: right;\">\n",
       "      <th></th>\n",
       "      <th>Peso</th>\n",
       "      <th>Altura</th>\n",
       "      <th>Mascotas</th>\n",
       "    </tr>\n",
       "  </thead>\n",
       "  <tbody>\n",
       "    <tr>\n",
       "      <th>Braulio</th>\n",
       "      <td>70</td>\n",
       "      <td>180</td>\n",
       "      <td>7.0</td>\n",
       "    </tr>\n",
       "    <tr>\n",
       "      <th>Gabo</th>\n",
       "      <td>70</td>\n",
       "      <td>175</td>\n",
       "      <td>4.0</td>\n",
       "    </tr>\n",
       "    <tr>\n",
       "      <th>Jessy</th>\n",
       "      <td>60</td>\n",
       "      <td>161</td>\n",
       "      <td>NaN</td>\n",
       "    </tr>\n",
       "    <tr>\n",
       "      <th>Lucero</th>\n",
       "      <td>68</td>\n",
       "      <td>160</td>\n",
       "      <td>NaN</td>\n",
       "    </tr>\n",
       "  </tbody>\n",
       "</table>\n",
       "</div>"
      ],
      "text/plain": [
       "         Peso  Altura  Mascotas\n",
       "Braulio    70     180       7.0\n",
       "Gabo       70     175       4.0\n",
       "Jessy      60     161       NaN\n",
       "Lucero     68     160       NaN"
      ]
     },
     "execution_count": 17,
     "metadata": {},
     "output_type": "execute_result"
    }
   ],
   "source": [
    "# Creación de un DataFrame inicializándo con un diccionario de objetos Series.\n",
    "Personas = {\n",
    "    \"Peso\": pd.Series([70, 68, 60, 70], [\"Gabo\", \"Lucero\", \"Jessy\", \"Braulio\"]),\n",
    "    \"Altura\": pd.Series({\"Gabo\":175, \"Lucero\":160, \"Jessy\":161, \"Braulio\":180}),\n",
    "    \"Mascotas\": pd.Series([4, 7], [\"Gabo\", \"Braulio\"])\n",
    "}\n",
    "df = pd.DataFrame(Personas)\n",
    "df"
   ]
  },
  {
   "cell_type": "markdown",
   "id": "27f98644-533d-4a0d-a8b4-3b924b4d13b7",
   "metadata": {},
   "source": [
    "Puede Forzarse el DataFrame a que presente unas columnas determinadas y en orden determinado."
   ]
  },
  {
   "cell_type": "code",
   "execution_count": 18,
   "id": "83f090e6-2238-4d05-a86d-ea9d60c01b6e",
   "metadata": {},
   "outputs": [
    {
     "data": {
      "text/html": [
       "<div>\n",
       "<style scoped>\n",
       "    .dataframe tbody tr th:only-of-type {\n",
       "        vertical-align: middle;\n",
       "    }\n",
       "\n",
       "    .dataframe tbody tr th {\n",
       "        vertical-align: top;\n",
       "    }\n",
       "\n",
       "    .dataframe thead th {\n",
       "        text-align: right;\n",
       "    }\n",
       "</style>\n",
       "<table border=\"1\" class=\"dataframe\">\n",
       "  <thead>\n",
       "    <tr style=\"text-align: right;\">\n",
       "      <th></th>\n",
       "      <th>Altura</th>\n",
       "      <th>Peso</th>\n",
       "    </tr>\n",
       "  </thead>\n",
       "  <tbody>\n",
       "    <tr>\n",
       "      <th>Gabo</th>\n",
       "      <td>175</td>\n",
       "      <td>70</td>\n",
       "    </tr>\n",
       "    <tr>\n",
       "      <th>Braulio</th>\n",
       "      <td>180</td>\n",
       "      <td>70</td>\n",
       "    </tr>\n",
       "    <tr>\n",
       "      <th>Lucero</th>\n",
       "      <td>160</td>\n",
       "      <td>68</td>\n",
       "    </tr>\n",
       "  </tbody>\n",
       "</table>\n",
       "</div>"
      ],
      "text/plain": [
       "         Altura  Peso\n",
       "Gabo        175    70\n",
       "Braulio     180    70\n",
       "Lucero      160    68"
      ]
     },
     "execution_count": 18,
     "metadata": {},
     "output_type": "execute_result"
    }
   ],
   "source": [
    "# Creación de un DataFrame inicializándo con un diccionario de objetos Series.\n",
    "Personas = {\n",
    "    \"Peso\": pd.Series([70, 68, 60, 70], [\"Gabo\", \"Lucero\", \"Jessy\", \"Braulio\"]),\n",
    "    \"Altura\": pd.Series({\"Gabo\":175, \"Lucero\":160, \"Jessy\":161, \"Braulio\":180}),\n",
    "    \"Mascotas\": pd.Series([4, 7], [\"Gabo\", \"Braulio\"])\n",
    "}\n",
    "df = pd.DataFrame(\n",
    "    Personas,\n",
    "    columns = [\"Altura\", \"Peso\"],\n",
    "    index = [\"Gabo\",  \"Braulio\", \"Lucero\"]\n",
    ")\n",
    "df"
   ]
  },
  {
   "cell_type": "code",
   "execution_count": null,
   "id": "b41212bb-6ffd-4dec-8d83-91ad867bf348",
   "metadata": {},
   "outputs": [],
   "source": []
  }
 ],
 "metadata": {
  "kernelspec": {
   "display_name": "Python 3 (ipykernel)",
   "language": "python",
   "name": "python3"
  },
  "language_info": {
   "codemirror_mode": {
    "name": "ipython",
    "version": 3
   },
   "file_extension": ".py",
   "mimetype": "text/x-python",
   "name": "python",
   "nbconvert_exporter": "python",
   "pygments_lexer": "ipython3",
   "version": "3.9.19"
  }
 },
 "nbformat": 4,
 "nbformat_minor": 5
}
